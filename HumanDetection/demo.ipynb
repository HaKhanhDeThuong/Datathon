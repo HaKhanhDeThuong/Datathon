{
 "cells": [
  {
   "cell_type": "code",
   "execution_count": 46,
   "id": "3dfc07cc",
   "metadata": {
    "scrolled": true
   },
   "outputs": [],
   "source": [
    "import torch.nn as nn\n",
    "import torch.optim as optim\n",
    "import torch\n",
    "from PIL import Image\n",
    "import cv2\n",
    "from torchvision import transforms\n",
    "import time\n",
    "import torch.nn.functional as F\n"
   ]
  },
  {
   "cell_type": "code",
   "execution_count": 47,
   "id": "86303690",
   "metadata": {},
   "outputs": [],
   "source": [
    "import torchvision.models as models\n",
    "\n",
    "class ResNet50(nn.Module):\n",
    "    def __init__(self, num_classes=2):\n",
    "        super(ResNet50, self).__init__()\n",
    "        resnet50 = models.resnet50(pretrained=True)\n",
    "        modules = list(resnet50.children())[:-1]\n",
    "        self.resnet50 = nn.Sequential(*modules)\n",
    "        self.fc = nn.Sequential(\n",
    "            nn.Linear(resnet50.fc.in_features, 1024),\n",
    "            nn.ReLU(),\n",
    "            nn.BatchNorm1d(1024),\n",
    "            nn.Linear(1024, num_classes)\n",
    "        )\n",
    "\n",
    "    def forward(self, x):\n",
    "        x = self.resnet50(x)\n",
    "        x = x.mean([2, 3])\n",
    "        x = self.fc(x)\n",
    "        return x\n"
   ]
  },
  {
   "cell_type": "code",
   "execution_count": 48,
   "id": "1836a8f3",
   "metadata": {},
   "outputs": [
    {
     "data": {
      "text/plain": [
       "<All keys matched successfully>"
      ]
     },
     "execution_count": 48,
     "metadata": {},
     "output_type": "execute_result"
    }
   ],
   "source": [
    "model = ResNet50(num_classes=2)\n",
    "model.load_state_dict(torch.load('model.pth'))"
   ]
  },
  {
   "cell_type": "code",
   "execution_count": 49,
   "id": "0d170d61",
   "metadata": {},
   "outputs": [],
   "source": [
    "transform = transforms.Compose([\n",
    "    transforms.RandomResizedCrop(64),\n",
    "    transforms.RandomHorizontalFlip(),\n",
    "    transforms.RandomRotation(30),\n",
    "    transforms.ColorJitter(brightness=0.2, contrast=0.2, saturation=0.2, hue=0.2),\n",
    "    transforms.ToTensor(),\n",
    "    transforms.Normalize((0.5, 0.5, 0.5), (0.5, 0.5, 0.5))\n",
    "]) #define transform"
   ]
  },
  {
   "cell_type": "code",
   "execution_count": 50,
   "id": "5ab73ae3",
   "metadata": {},
   "outputs": [],
   "source": [
    "def img_process(img):\n",
    "    img = cv2.cvtColor(img, cv2.COLOR_BGR2RGB)\n",
    "    pil_image = Image.fromarray(img)\n",
    "    img = transform(pil_image).unsqueeze(0)\n",
    "    with torch.no_grad():\n",
    "        model.eval()\n",
    "        outputs = model(img)\n",
    "        softmax_probs = F.softmax(outputs, dim=1)\n",
    "        _, predicted_class = torch.max(outputs, 1)\n",
    "        return softmax_probs.tolist()[0],  predicted_class.tolist()[0]"
   ]
  },
  {
   "cell_type": "code",
   "execution_count": 51,
   "id": "e8be3a4e",
   "metadata": {},
   "outputs": [],
   "source": [
    "img = cv2.imread(r\"data\\human detection dataset\\0\\144.png\")"
   ]
  },
  {
   "cell_type": "code",
   "execution_count": 52,
   "id": "f845fa7c",
   "metadata": {},
   "outputs": [
    {
     "data": {
      "text/plain": [
       "0"
      ]
     },
     "execution_count": 52,
     "metadata": {},
     "output_type": "execute_result"
    }
   ],
   "source": [
    "img_process(img)[1]"
   ]
  },
  {
   "cell_type": "code",
   "execution_count": 53,
   "id": "9c084773",
   "metadata": {},
   "outputs": [],
   "source": [
    "\n",
    "# Mở camera\n",
    "cap = cv2.VideoCapture(0)  # Số 0 thường tương ứng với camera mặc định của máy tính\n",
    "\n",
    "while True:\n",
    "    # Đọc frame từ camera\n",
    "    ret, frame = cap.read()\n",
    "    prob, ishuman = img_process(frame)\n",
    "    if ishuman == 1 and prob[ishuman] > 0.6:\n",
    "        text = \"HUMAN\"\n",
    "    elif ishuman == 0 and prob[ishuman]> 0.6 : \n",
    "        text = \"NOHUMAN\"\n",
    "    # Hiển thị frame\n",
    "    cv2.putText(frame, text, (10, 30), cv2.FONT_HERSHEY_SIMPLEX, 1, (0, 255, 0), 2)\n",
    "    cv2.imshow('Camera', frame)\n",
    "    # Thoát khỏi vòng lặp khi nhấn phím 'q'\n",
    "    if cv2.waitKey(1) & 0xFF == ord('q'):\n",
    "        break\n",
    "# Giải phóng camera và đóng cửa sổ\n",
    "cap.release()\n",
    "cv2.destroyAllWindows()\n"
   ]
  },
  {
   "cell_type": "code",
   "execution_count": null,
   "id": "bd2b56c6",
   "metadata": {},
   "outputs": [],
   "source": []
  }
 ],
 "metadata": {
  "kernelspec": {
   "display_name": "Python (<3.11.0>)",
   "language": "python",
   "name": "myenv"
  },
  "language_info": {
   "codemirror_mode": {
    "name": "ipython",
    "version": 3
   },
   "file_extension": ".py",
   "mimetype": "text/x-python",
   "name": "python",
   "nbconvert_exporter": "python",
   "pygments_lexer": "ipython3",
   "version": "3.11.5"
  }
 },
 "nbformat": 4,
 "nbformat_minor": 5
}
