{
 "cells": [
  {
   "cell_type": "code",
   "execution_count": 72,
   "id": "add5f5da",
   "metadata": {},
   "outputs": [],
   "source": [
    "from PIL import Image\n",
    "import os\n",
    "import shutil\n",
    "import cv2\n",
    "import matplotlib.pyplot as plt\n",
    "import numpy as np"
   ]
  },
  {
   "cell_type": "code",
   "execution_count": 20,
   "id": "31454fe9",
   "metadata": {},
   "outputs": [],
   "source": [
    "data_dir = r'data/cor/OneStopNoEnter1'"
   ]
  },
  {
   "cell_type": "code",
   "execution_count": 21,
   "id": "ab619f8c",
   "metadata": {
    "scrolled": true
   },
   "outputs": [],
   "source": [
    "images_list = os.listdir(data_dir)"
   ]
  },
  {
   "cell_type": "code",
   "execution_count": 86,
   "id": "4fc16ea5",
   "metadata": {},
   "outputs": [],
   "source": [
    "def is_looped(img_pre, img_cur):\n",
    "    img_pre = img_pre[0:9, 0:209]\n",
    "    img_cur = img_cur[0:9, 0:209]\n",
    "\n",
    "    similarity_ratio = np.sum(img_pre == img_cur) / np.prod(img_pre.shape)\n",
    "\n",
    "    return similarity_ratio == 1"
   ]
  },
  {
   "cell_type": "code",
   "execution_count": 87,
   "id": "9607b3ab",
   "metadata": {},
   "outputs": [],
   "source": [
    "img = cv2.imread(os.path.join(data_dir, images_list[206]))\n",
    "imgg = cv2.imread(os.path.join(data_dir, images_list[207]))"
   ]
  },
  {
   "cell_type": "code",
   "execution_count": 89,
   "id": "009bf220",
   "metadata": {},
   "outputs": [
    {
     "name": "stdout",
     "output_type": "stream",
     "text": [
      "data/cor/OneStopNoEnter1\\OneStopNoEnter1cor0003.jpg\n",
      "data/cor/OneStopNoEnter1\\OneStopNoEnter1cor0028.jpg\n",
      "data/cor/OneStopNoEnter1\\OneStopNoEnter1cor0033.jpg\n",
      "data/cor/OneStopNoEnter1\\OneStopNoEnter1cor0187.jpg\n",
      "data/cor/OneStopNoEnter1\\OneStopNoEnter1cor0192.jpg\n",
      "data/cor/OneStopNoEnter1\\OneStopNoEnter1cor0197.jpg\n",
      "data/cor/OneStopNoEnter1\\OneStopNoEnter1cor0207.jpg\n",
      "data/cor/OneStopNoEnter1\\OneStopNoEnter1cor0212.jpg\n",
      "data/cor/OneStopNoEnter1\\OneStopNoEnter1cor0217.jpg\n",
      "data/cor/OneStopNoEnter1\\OneStopNoEnter1cor0222.jpg\n",
      "data/cor/OneStopNoEnter1\\OneStopNoEnter1cor0227.jpg\n",
      "data/cor/OneStopNoEnter1\\OneStopNoEnter1cor0237.jpg\n",
      "data/cor/OneStopNoEnter1\\OneStopNoEnter1cor0297.jpg\n",
      "data/cor/OneStopNoEnter1\\OneStopNoEnter1cor0312.jpg\n",
      "data/cor/OneStopNoEnter1\\OneStopNoEnter1cor0317.jpg\n",
      "data/cor/OneStopNoEnter1\\OneStopNoEnter1cor0322.jpg\n",
      "data/cor/OneStopNoEnter1\\OneStopNoEnter1cor0325.jpg\n",
      "data/cor/OneStopNoEnter1\\OneStopNoEnter1cor0327.jpg\n",
      "data/cor/OneStopNoEnter1\\OneStopNoEnter1cor0332.jpg\n",
      "data/cor/OneStopNoEnter1\\OneStopNoEnter1cor0345.jpg\n",
      "data/cor/OneStopNoEnter1\\OneStopNoEnter1cor0349.jpg\n",
      "data/cor/OneStopNoEnter1\\OneStopNoEnter1cor0358.jpg\n",
      "data/cor/OneStopNoEnter1\\OneStopNoEnter1cor0394.jpg\n",
      "data/cor/OneStopNoEnter1\\OneStopNoEnter1cor0424.jpg\n",
      "data/cor/OneStopNoEnter1\\OneStopNoEnter1cor0428.jpg\n",
      "data/cor/OneStopNoEnter1\\OneStopNoEnter1cor0430.jpg\n",
      "data/cor/OneStopNoEnter1\\OneStopNoEnter1cor0453.jpg\n",
      "data/cor/OneStopNoEnter1\\OneStopNoEnter1cor0467.jpg\n",
      "data/cor/OneStopNoEnter1\\OneStopNoEnter1cor0472.jpg\n",
      "data/cor/OneStopNoEnter1\\OneStopNoEnter1cor0477.jpg\n",
      "data/cor/OneStopNoEnter1\\OneStopNoEnter1cor0482.jpg\n",
      "data/cor/OneStopNoEnter1\\OneStopNoEnter1cor0486.jpg\n",
      "data/cor/OneStopNoEnter1\\OneStopNoEnter1cor0491.jpg\n",
      "data/cor/OneStopNoEnter1\\OneStopNoEnter1cor0496.jpg\n",
      "data/cor/OneStopNoEnter1\\OneStopNoEnter1cor0505.jpg\n",
      "data/cor/OneStopNoEnter1\\OneStopNoEnter1cor0510.jpg\n",
      "data/cor/OneStopNoEnter1\\OneStopNoEnter1cor0515.jpg\n",
      "data/cor/OneStopNoEnter1\\OneStopNoEnter1cor0520.jpg\n",
      "data/cor/OneStopNoEnter1\\OneStopNoEnter1cor0525.jpg\n",
      "data/cor/OneStopNoEnter1\\OneStopNoEnter1cor0530.jpg\n",
      "data/cor/OneStopNoEnter1\\OneStopNoEnter1cor0535.jpg\n",
      "data/cor/OneStopNoEnter1\\OneStopNoEnter1cor0540.jpg\n",
      "data/cor/OneStopNoEnter1\\OneStopNoEnter1cor0550.jpg\n",
      "data/cor/OneStopNoEnter1\\OneStopNoEnter1cor0555.jpg\n",
      "data/cor/OneStopNoEnter1\\OneStopNoEnter1cor0560.jpg\n",
      "data/cor/OneStopNoEnter1\\OneStopNoEnter1cor0570.jpg\n",
      "data/cor/OneStopNoEnter1\\OneStopNoEnter1cor0580.jpg\n",
      "data/cor/OneStopNoEnter1\\OneStopNoEnter1cor0588.jpg\n",
      "data/cor/OneStopNoEnter1\\OneStopNoEnter1cor0590.jpg\n",
      "data/cor/OneStopNoEnter1\\OneStopNoEnter1cor0595.jpg\n",
      "data/cor/OneStopNoEnter1\\OneStopNoEnter1cor0600.jpg\n",
      "data/cor/OneStopNoEnter1\\OneStopNoEnter1cor0605.jpg\n",
      "data/cor/OneStopNoEnter1\\OneStopNoEnter1cor0610.jpg\n",
      "data/cor/OneStopNoEnter1\\OneStopNoEnter1cor0620.jpg\n",
      "data/cor/OneStopNoEnter1\\OneStopNoEnter1cor0625.jpg\n",
      "data/cor/OneStopNoEnter1\\OneStopNoEnter1cor0630.jpg\n",
      "data/cor/OneStopNoEnter1\\OneStopNoEnter1cor0640.jpg\n",
      "data/cor/OneStopNoEnter1\\OneStopNoEnter1cor0645.jpg\n",
      "data/cor/OneStopNoEnter1\\OneStopNoEnter1cor0650.jpg\n",
      "data/cor/OneStopNoEnter1\\OneStopNoEnter1cor0655.jpg\n",
      "data/cor/OneStopNoEnter1\\OneStopNoEnter1cor0660.jpg\n",
      "data/cor/OneStopNoEnter1\\OneStopNoEnter1cor0665.jpg\n",
      "data/cor/OneStopNoEnter1\\OneStopNoEnter1cor0670.jpg\n",
      "data/cor/OneStopNoEnter1\\OneStopNoEnter1cor0675.jpg\n",
      "data/cor/OneStopNoEnter1\\OneStopNoEnter1cor0680.jpg\n",
      "data/cor/OneStopNoEnter1\\OneStopNoEnter1cor0685.jpg\n",
      "data/cor/OneStopNoEnter1\\OneStopNoEnter1cor0690.jpg\n",
      "data/cor/OneStopNoEnter1\\OneStopNoEnter1cor0700.jpg\n",
      "data/cor/OneStopNoEnter1\\OneStopNoEnter1cor0702.jpg\n",
      "data/cor/OneStopNoEnter1\\OneStopNoEnter1cor0715.jpg\n",
      "data/cor/OneStopNoEnter1\\OneStopNoEnter1cor0720.jpg\n"
     ]
    }
   ],
   "source": [
    "img_pre = cv2.imread(os.path.join(data_dir, images_list[199])) \n",
    "for dir_ in images_list:\n",
    "    file = os.path.join(data_dir, dir_)\n",
    "    img_cur = cv2.imread(file)\n",
    "    if is_looped(img_pre, img_cur):\n",
    "        print(file)\n",
    "    img_pre = img_cur"
   ]
  }
 ],
 "metadata": {
  "kernelspec": {
   "display_name": "Python (<3.11.0>)",
   "language": "python",
   "name": "myenv"
  },
  "language_info": {
   "codemirror_mode": {
    "name": "ipython",
    "version": 3
   },
   "file_extension": ".py",
   "mimetype": "text/x-python",
   "name": "python",
   "nbconvert_exporter": "python",
   "pygments_lexer": "ipython3",
   "version": "3.11.5"
  }
 },
 "nbformat": 4,
 "nbformat_minor": 5
}
