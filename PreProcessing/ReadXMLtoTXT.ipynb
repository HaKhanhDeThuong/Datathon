{
 "cells": [
  {
   "cell_type": "code",
   "execution_count": 15,
   "id": "d9e93d08-3b5d-4c60-82d7-206faf8497bc",
   "metadata": {},
   "outputs": [
    {
     "name": "stdout",
     "output_type": "stream",
     "text": [
      "Text files generated successfully.\n"
     ]
    }
   ],
   "source": [
    "import xml.etree.ElementTree as ET\n",
    "\n",
    "# Load the XML file\n",
    "tree = ET.parse('OneStopNoEnter1.xml')\n",
    "root = tree.getroot()\n",
    "\n",
    "# Iterate through each frame in the specified range\n",
    "for frame_number in range(725):  \n",
    "    frame_number_str = str(frame_number)\n",
    "    \n",
    "    # Check if a frame with the current number exists in the XML\n",
    "    frame = root.find(f'.//frame[@number=\"{frame_number_str}\"]')\n",
    "    if frame is not None:\n",
    "        # Open a text file for writing\n",
    "        with open(f'OneStopNoEnter1cor{frame_number}.txt', 'w') as txt_file:\n",
    "            #txt_file.write(f'Frame Number: {frame_number_str}\\n')\n",
    "\n",
    "            # Extract and write information for each object in the frame\n",
    "            for obj in frame.findall('.//object'):\n",
    "                obj_id = obj.get('id')\n",
    "                orientation = obj.find('orientation').text\n",
    "                box_info = obj.find('box')\n",
    "                xc = box_info.get('xc')\n",
    "                yc = box_info.get('yc')\n",
    "                w = box_info.get('w')\n",
    "                h = box_info.get('h')\n",
    "                appearance = obj.find('appearance').text\n",
    "\n",
    "                # txt_file.write(f'{obj_id}\\n')\n",
    "                # txt_file.write(f'{orientation}\\n')\n",
    "                txt_file.write(f'{xc}, {yc}, {w}, {h}\\n')\n",
    "                # txt_file.write(f'{appearance}\\n')\n",
    "\n",
    "                # Extract and write information for each hypothesis in the object\n",
    "                for hypothesis in obj.findall('.//hypothesis'):\n",
    "                    hypothesis_id = hypothesis.get('id')\n",
    "                    prev = hypothesis.get('prev')\n",
    "                    evaluation = hypothesis.get('evaluation')\n",
    "                    movement = hypothesis.find('movement').text\n",
    "                    role = hypothesis.find('role').text\n",
    "                    context = hypothesis.find('context').text\n",
    "                    situation = hypothesis.find('situation').text\n",
    "\n",
    "                    # txt_file.write(f'{hypothesis_id}\\n')\n",
    "                    # txt_file.write(f'{prev}\\n')\n",
    "                    # txt_file.write(f'{evaluation}\\n')\n",
    "                    txt_file.write(f'{movement}\\n')\n",
    "                    txt_file.write(f'{role}\\n')\n",
    "                    txt_file.write(f'{context}\\n')\n",
    "                    txt_file.write(f'{situation}\\n')\n",
    "\n",
    "                txt_file.write('\\n')  # Add a newline between objects\n",
    "\n",
    "print(\"Text files generated successfully.\")"
   ]
  }
 ],
 "metadata": {
  "kernelspec": {
   "display_name": "Python 3 (ipykernel)",
   "language": "python",
   "name": "python3"
  },
  "language_info": {
   "codemirror_mode": {
    "name": "ipython",
    "version": 3
   },
   "file_extension": ".py",
   "mimetype": "text/x-python",
   "name": "python",
   "nbconvert_exporter": "python",
   "pygments_lexer": "ipython3",
   "version": "3.12.0"
  }
 },
 "nbformat": 4,
 "nbformat_minor": 5
}
